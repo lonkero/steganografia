{
 "cells": [
  {
   "cell_type": "code",
   "execution_count": 44,
   "metadata": {
    "collapsed": false
   },
   "outputs": [],
   "source": [
    "from PIL import Image\n",
    "import random\n",
    "import plotly.graph_objs as go\n",
    "from plotly.offline import init_notebook_mode, plot, iplot\n",
    "from IPython.display import display, HTML, Image as image"
   ]
  },
  {
   "cell_type": "markdown",
   "metadata": {},
   "source": [
    "# Funkcja kodująca wiadomość w obrazie"
   ]
  },
  {
   "cell_type": "code",
   "execution_count": 25,
   "metadata": {
    "collapsed": true
   },
   "outputs": [],
   "source": [
    "def encoder(image_location):\n",
    "    \n",
    "    image = Image.open(image_location)\n",
    "    total=image.height*image.width*3/7    \n",
    "    print(\"W wybranym zdjeciu mozna zakodowac \" + str(round(total)) + \" znakow, czyli ok. \" + str(round(total/1800)) + \" stron.\")\n",
    "    \n",
    "    message = input('Podaj wiadomosc do zakodowania (bez polskich znakow): ')\n",
    "    \n",
    "    # Przekodowanie wiadomosci na strumien bitow\n",
    "    \n",
    "    bitstream = \"\"\n",
    "    for ch in message:\n",
    "        char = format(ord(ch), '07b')\n",
    "        bitstream += char \n",
    "    bitstream += \"0000000\"\n",
    "    for n in range(image.height*image.width*3):\n",
    "        bitstream += str(random.randint(0, 1))\n",
    "        \n",
    "    bit = iter(bitstream)\n",
    "    \n",
    "    # Zamiana najmniej znaczacych bitow w pikselach\n",
    "    \n",
    "    encoded_image = Image.new(\"RGB\", image.size)\n",
    "    pixels = encoded_image.load()\n",
    "    \n",
    "    for h in range(image.height):\n",
    "        for w in range(image.width):\n",
    "\n",
    "            newred = int(bin(image.getpixel((w,h))[0])[:-1] + next(bit),2)\n",
    "            newgreen = int(bin(image.getpixel((w,h))[1])[:-1] + next(bit),2)         \n",
    "            newblue = int(bin(image.getpixel((w,h))[2])[:-1] + next(bit),2)\n",
    "            \n",
    "            pixels[w,h] = (newred, newgreen, newblue)\n",
    "    \n",
    "    encoded_image.save(\"encoded_image.png\")\n",
    "\n"
   ]
  },
  {
   "cell_type": "markdown",
   "metadata": {},
   "source": [
    "### Wywołanie funkcji"
   ]
  },
  {
   "cell_type": "code",
   "execution_count": 26,
   "metadata": {
    "collapsed": false
   },
   "outputs": [
    {
     "name": "stdout",
     "output_type": "stream",
     "text": [
      "W wybranym zdjeciu mozna zakodowac 189333 znakow, czyli ok. 105 stron.\n",
      "Podaj wiadomosc do zakodowania (bez polskich znakow): Kryptografia stosowana 2018\n"
     ]
    }
   ],
   "source": [
    "encoder(\"example.png\")"
   ]
  },
  {
   "cell_type": "markdown",
   "metadata": {},
   "source": [
    "### Porównanie zdjęcia oryginalnego (po lewej) i z ukrytą wiadomością (po prawej)."
   ]
  },
  {
   "cell_type": "code",
   "execution_count": 27,
   "metadata": {
    "collapsed": false,
    "scrolled": true
   },
   "outputs": [
    {
     "data": {
      "text/html": [
       "<table><tr><td><img src='example.png'></td><td><img src='encoded_image.png'></td></tr></table>"
      ],
      "text/plain": [
       "<IPython.core.display.HTML object>"
      ]
     },
     "metadata": {},
     "output_type": "display_data"
    }
   ],
   "source": [
    "display(HTML(\"<table><tr><td><img src='example.png'></td><td><img src='encoded_image.png'></td></tr></table>\"))"
   ]
  },
  {
   "cell_type": "markdown",
   "metadata": {},
   "source": [
    "# Funkcja odczytująca wiadomość z obrazu"
   ]
  },
  {
   "cell_type": "code",
   "execution_count": 29,
   "metadata": {
    "collapsed": true
   },
   "outputs": [],
   "source": [
    "def decoder(encoded_image_location):\n",
    "    \n",
    "    encoded_image = Image.open(encoded_image_location)\n",
    "    \n",
    "    #ekstrakcja najmniej znaczacego bitu z kanalow RGB kolejnych pikseli\n",
    "    \n",
    "    secret_letter = \"\"\n",
    "    secret_message = \"\"\n",
    "    for h in range(encoded_image.height):\n",
    "        for w in range(encoded_image.width):\n",
    "            for n in range(3):\n",
    "                secret_bit = bin(encoded_image.getpixel((w,h))[n])[-1]\n",
    "                secret_letter += secret_bit\n",
    "                if len(secret_letter)==7 and secret_letter!=\"0000000\":\n",
    "                    ch = chr(int(secret_letter,2))\n",
    "                    secret_message += ch\n",
    "                    secret_letter = \"\"\n",
    "                if secret_letter == \"0000000\":\n",
    "                    return print(\"Sekretna wiadomosc to: \" + secret_message)"
   ]
  },
  {
   "cell_type": "markdown",
   "metadata": {},
   "source": [
    "### Wywołanie funkcji"
   ]
  },
  {
   "cell_type": "code",
   "execution_count": 31,
   "metadata": {
    "collapsed": false
   },
   "outputs": [
    {
     "name": "stdout",
     "output_type": "stream",
     "text": [
      "Sekretna wiadomosc to: Kryptografia stosowana 2018\n"
     ]
    }
   ],
   "source": [
    "decoder(\"encoded_image.png\")"
   ]
  },
  {
   "cell_type": "markdown",
   "metadata": {},
   "source": [
    "# Porównanie zmiany koloru losowego piksela"
   ]
  },
  {
   "cell_type": "code",
   "execution_count": 43,
   "metadata": {
    "collapsed": false
   },
   "outputs": [
    {
     "data": {
      "text/html": [
       "<script>requirejs.config({paths: { 'plotly': ['https://cdn.plot.ly/plotly-latest.min']},});if(!window.Plotly) {{require(['plotly'],function(plotly) {window.Plotly=plotly;});}}</script>"
      ],
      "text/vnd.plotly.v1+html": [
       "<script>requirejs.config({paths: { 'plotly': ['https://cdn.plot.ly/plotly-latest.min']},});if(!window.Plotly) {{require(['plotly'],function(plotly) {window.Plotly=plotly;});}}</script>"
      ]
     },
     "metadata": {},
     "output_type": "display_data"
    },
    {
     "data": {
      "application/vnd.plotly.v1+json": {
       "data": [
        {
         "cells": {
          "fill": {
           "color": [
            "white",
            "white",
            "#4a98f9",
            "white",
            "white",
            "#4b98f8"
           ]
          },
          "height": 30,
          "values": [
           [
            "Oryginalne zdjecie",
            "Zakodowane zdjecie"
           ],
           [
            "(74, 152, 249)",
            "(75, 152, 248)"
           ],
           [
            "",
            ""
           ]
          ]
         },
         "header": {
          "values": [
           "<b>Obraz</b>",
           "<b>RGB</b>",
           "<b>Kolor</b>"
          ]
         },
         "type": "table"
        }
       ],
       "layout": {
        "autosize": false,
        "height": 300,
        "title": "Zmiana w kolorze losowego piksela po zakodowaniu",
        "width": 800
       }
      },
      "text/html": [
       "<div id=\"af3b6002-0719-409a-85f0-1303d0089b45\" style=\"height: 300px; width: 800px;\" class=\"plotly-graph-div\"></div><script type=\"text/javascript\">require([\"plotly\"], function(Plotly) { window.PLOTLYENV=window.PLOTLYENV || {};window.PLOTLYENV.BASE_URL=\"https://plot.ly\";Plotly.newPlot(\"af3b6002-0719-409a-85f0-1303d0089b45\", [{\"type\": \"table\", \"header\": {\"values\": [\"<b>Obraz</b>\", \"<b>RGB</b>\", \"<b>Kolor</b>\"]}, \"cells\": {\"values\": [[\"Oryginalne zdjecie\", \"Zakodowane zdjecie\"], [\"(74, 152, 249)\", \"(75, 152, 248)\"], [\"\", \"\"]], \"fill\": {\"color\": [\"white\", \"white\", \"#4a98f9\", \"white\", \"white\", \"#4b98f8\"]}, \"height\": 30}}], {\"width\": 800, \"height\": 300, \"autosize\": false, \"title\": \"Zmiana w kolorze losowego piksela po zakodowaniu\"}, {\"showLink\": true, \"linkText\": \"Export to plot.ly\"})});</script>"
      ],
      "text/vnd.plotly.v1+html": [
       "<div id=\"af3b6002-0719-409a-85f0-1303d0089b45\" style=\"height: 300px; width: 800px;\" class=\"plotly-graph-div\"></div><script type=\"text/javascript\">require([\"plotly\"], function(Plotly) { window.PLOTLYENV=window.PLOTLYENV || {};window.PLOTLYENV.BASE_URL=\"https://plot.ly\";Plotly.newPlot(\"af3b6002-0719-409a-85f0-1303d0089b45\", [{\"type\": \"table\", \"header\": {\"values\": [\"<b>Obraz</b>\", \"<b>RGB</b>\", \"<b>Kolor</b>\"]}, \"cells\": {\"values\": [[\"Oryginalne zdjecie\", \"Zakodowane zdjecie\"], [\"(74, 152, 249)\", \"(75, 152, 248)\"], [\"\", \"\"]], \"fill\": {\"color\": [\"white\", \"white\", \"#4a98f9\", \"white\", \"white\", \"#4b98f8\"]}, \"height\": 30}}], {\"width\": 800, \"height\": 300, \"autosize\": false, \"title\": \"Zmiana w kolorze losowego piksela po zakodowaniu\"}, {\"showLink\": true, \"linkText\": \"Export to plot.ly\"})});</script>"
      ]
     },
     "metadata": {},
     "output_type": "display_data"
    }
   ],
   "source": [
    "image = Image.open('example.png')\n",
    "encoded_image=Image.open('encoded_image.png') \n",
    "\n",
    "init_notebook_mode(connected=True)\n",
    "\n",
    "before=0\n",
    "after=0\n",
    "while before==after:\n",
    "    a = random.randint(0, image.width)\n",
    "    b = random.randint(0, image.height)\n",
    "    before = image.getpixel((a,b))[0:3]\n",
    "    after = encoded_image.getpixel((a,b))\n",
    "    col_b = '#%02x%02x%02x' % before\n",
    "    col_a = '#%02x%02x%02x' % after\n",
    "\n",
    "vals = [['Oryginalne zdjecie', 'Zakodowane zdjecie'], [str(before), str(after)], [\"\",\"\"]]\n",
    "cols = [\"white\",\"white\",col_b,\"white\",\"white\",col_a]\n",
    "\n",
    "trace = go.Table(\n",
    "        header=dict(values=['<b>Obraz</b>', '<b>RGB</b>', '<b>Kolor</b>']),\n",
    "        cells=dict(values=vals, fill = dict(color=cols), height = 30)\n",
    "        )\n",
    "\n",
    "layout = dict(width=800, height=300, autosize=False,\n",
    "              title='Zmiana w kolorze losowego piksela po zakodowaniu')\n",
    "data = [trace]\n",
    "fig = dict(data=data, layout=layout)\n",
    "iplot(fig)"
   ]
  },
  {
   "cell_type": "code",
   "execution_count": null,
   "metadata": {
    "collapsed": true
   },
   "outputs": [],
   "source": []
  }
 ],
 "metadata": {
  "kernelspec": {
   "display_name": "Python 3",
   "language": "python",
   "name": "python3"
  },
  "language_info": {
   "codemirror_mode": {
    "name": "ipython",
    "version": 3
   },
   "file_extension": ".py",
   "mimetype": "text/x-python",
   "name": "python",
   "nbconvert_exporter": "python",
   "pygments_lexer": "ipython3",
   "version": "3.6.0"
  }
 },
 "nbformat": 4,
 "nbformat_minor": 2
}
